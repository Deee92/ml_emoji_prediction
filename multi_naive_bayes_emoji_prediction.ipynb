{
 "cells": [
  {
   "cell_type": "markdown",
   "metadata": {},
   "source": [
    "## Import packages"
   ]
  },
  {
   "cell_type": "code",
   "execution_count": 1,
   "metadata": {},
   "outputs": [],
   "source": [
    "import re\n",
    "import json\n",
    "import numpy as np\n",
    "import pandas as pd\n",
    "from pandas.io.json import json_normalize\n",
    "import nltk\n",
    "from nltk.tokenize import word_tokenize\n",
    "from nltk.stem import WordNetLemmatizer\n",
    "from nltk.corpus import stopwords\n",
    "from sklearn.feature_extraction.text import TfidfVectorizer\n",
    "from sklearn.model_selection import train_test_split\n",
    "from sklearn.naive_bayes import MultinomialNB\n",
    "from sklearn import metrics"
   ]
  },
  {
   "cell_type": "markdown",
   "metadata": {},
   "source": [
    "## Load file"
   ]
  },
  {
   "cell_type": "code",
   "execution_count": 2,
   "metadata": {},
   "outputs": [
    {
     "name": "stdout",
     "output_type": "stream",
     "text": [
      "                                payload.comment.body\n",
      "0  ## Step 2: Turn on GitHub Pages\\n\\nNicely done...\n",
      "1  # [Codecov](https://codecov.io/gh/gitcoinco/we...\n",
      "2  # [Codecov](https://codecov.io/gh/gitcoinco/we...\n",
      "3  ## Nice work\\n\\n![celebrate](https://octodex.g...\n",
      "4  # [Codecov](https://codecov.io/gh/poliastro/po...\n",
      "(1104, 1)\n"
     ]
    }
   ],
   "source": [
    "my_file = json.loads(open(r\"comments_with_emoji_toarray.json\", \"r\").read())\n",
    "df = json_normalize(my_file)\n",
    "print(df.head())\n",
    "print(df.shape)"
   ]
  },
  {
   "cell_type": "markdown",
   "metadata": {},
   "source": [
    "## Extract comments into a list"
   ]
  },
  {
   "cell_type": "code",
   "execution_count": 3,
   "metadata": {
    "scrolled": false
   },
   "outputs": [
    {
     "name": "stdout",
     "output_type": "stream",
     "text": [
      "## Step 2: Turn on GitHub Pages\n",
      "\n",
      "Nicely done @sromanowski12! At least one task in your Markdown to-do list is correct. :sparkles:\n",
      "\n",
      "Now let's turn our focus to the content of your portfolio. Because this portfolio will be displayed as a static web page, you'll need to enable GitHub Pages.\n",
      "\n",
      "### :keyboard: Activity: Enable GitHub Pages\n",
      "1. Under your repository name, click [**Settings**](https://github.com/sromanowski12/markdown-portfolio/settings).\n",
      "1. In the **GitHub Pages** section, use the **Select source** drop-down menu to select `master` as your GitHub Pages publishing source.\n",
      "1. Click **Save**.\n",
      "\n",
      "> _I may take up to a minute to respond as I wait for GitHub Pages to create a deployment of your repository_.\n",
      "\n",
      "> _For more information, see [Configuring a publishing source for GitHub Pages](https://help.github.com/articles/configuring-a-publishing-source-for-github-pages/) in the GitHub Help._\n",
      "\n",
      "<hr>\n",
      "<h3 align=\"center\">Return to this issue for next steps</h3>\n",
      "\n"
     ]
    }
   ],
   "source": [
    "list_of_comments = []\n",
    "row_count = df.shape[0]\n",
    "for i in range(row_count):\n",
    "    list_of_comments.append(df['payload.comment.body'][i])\n",
    "print(list_of_comments[0])"
   ]
  },
  {
   "cell_type": "markdown",
   "metadata": {},
   "source": [
    "## Extract emoji from each comment"
   ]
  },
  {
   "cell_type": "code",
   "execution_count": 4,
   "metadata": {
    "scrolled": false
   },
   "outputs": [
    {
     "name": "stdout",
     "output_type": "stream",
     "text": [
      "__Set__\n",
      "{':4c:', ':ee:', ':bee:', ':http:', ':emails:', ':fe:', ':callbacks:', ':beast:', ':tomato:', ':ip:', ':float:', ':slightly_smiling_face:', ':exclamation:', ':point_right:', ':heart:', ':err:', ':other:', ':roll_eyes:', ':joy:', ':wink:', ':runtime:', ':json:', ':sparkles:', ':glide:', ':scroll:', ':gift:', ':ios_base:', ':hourglass:', ':0b:', ':sweat_smile:', ':bigthink:', ':thumbsup:', ':keyboard:', ':gpio:', ':https:', ':memo:', ':install:', ':no_entry_sign:', ':6eb0:', ':sob:', ':grin:', ':test:', ':stuck_out_tongue:', ':app:', ':innocent:', ':executors:', ':ff:', ':grinning:', ':_except_hook_log_everything:', ':white_check_mark:', ':clock10:', ':workflow:', ':star:', ':wrench:', ':chrono:', ':clap:', ':construction:', ':<https:', ':eyes:', ':moneybag:', ':sc_transmit_apdu:', ':cocktail:', ':pray:', ':point_down:', ':tada:', ':data:', ':package:', ':d7:', ':summary:', ':write:', ':pcsc_transmit:', ':error:', ':2e:', ':category:', ':sc_transmit:', ':bulb:', ':startup:', ':rocket:', ':sc_single_transmit:', ':book:', ':fields:', ':ckey:', ':100:', ':locale:', ':generator:', ':worried:', ':ir:', ':authors:', ':color:', ':trollface:', ':blush:', ':function:', ':slug:', ':pencil:', ':kappa:', ':handle:', ':crossed_fingers:', ':di:', ':muscle_card_reader_lock_obtained:', ':smile_cat:', ':game_id:', ':smiling_imp:', ':byond_version:', ':arrow_down:', ':utils:', ':start:', ':object:', ':clone:', ':<ip:', ':detail:', ':/sbin:', ':serial:', ':c:', ':tags:', ':s:', ':-1:', ':marker:', ':6f:', ':byond_build:', ':fixme:', ':bug:', ':mig:', ':yp:', ':display:', ':1a:', ':scream_cat:', ':yuso:', ':muscle:', ':dist:', ':see_no_evil:', ':2b:', ':umbrella:', ':wave:', ':clock1:', ':abcd:', ':computerid:', ':filechooser:', ':green_heart:', ':pencil2:', ':robot:', ':man_shrugging:', ':woman_facepalming:', ':laughing:', ':ems:', ':email:', ':end:', ':ok_hand:', ':math:', ':serverip:', ':logic_error:', ':sc_lock:', ':shipit:', ':thinking:', ':@hint:', ':cry:', ':serokell:', ':string:', ':yum:', ':high_resolution_clock:', ':recycle:', ':page_facing_up:', ':christmas_tree:', ':santa:', ':width:', ':vulkan:', ':phone:', ':relaxed:', ':sheepishly:', ':no_entry:', ':x:', ':7c:', ':0e:', ':champagne:', ':tv:', ':man_facepalming:', ':confetti_ball:', ':arrow_up:', ':smile:', ':feaa:', ':threads:', ':bowtie:', ':6c:', ':point_left:', ':+1:', ':aeb1:', ':frowning_face:', ':construction_worker:', ':gpioa:', ':pcsc_internal_transmit:', ':ffff:', ':random_device:', ':pushpin:', ':6e:', ':fireworks:', ':warning:', ':disappointed:', ':trace:', ':rotating_light:', ':green_apple:', ':sunny:', ':sunglasses:', ':sc_unlock:', ':smiley:', ':ops:', ':heavy_check_mark:', ':pcsc_lock:', ':confused:', ':date:', ':octocat:'}\n",
      "__List__\n",
      "[[':sparkles:', ':keyboard:'], [':arrow_up:', ':arrow_down:', ':arrow_up:'], [':arrow_up:', ':arrow_down:', ':arrow_up:'], [':tada:'], [':arrow_up:', ':arrow_up:', ':arrow_down:'], [':keyboard:', ':sparkles:'], [':muscle:', ':keyboard:'], [':+1:', ':+1:'], [':tada:', ':sunglasses:', ':keyboard:'], [':phone:', ':no_entry:'], [':muscle:', ':keyboard:'], [':arrow_up:', ':arrow_up:', ':arrow_up:', ':arrow_up:'], [':tada:', ':sunglasses:', ':keyboard:'], [':muscle:', ':keyboard:'], [':keyboard:'], [':grin:'], [':keyboard:'], [':smiley:'], [':tada:', ':sunglasses:', ':keyboard:'], [':book:', ':keyboard:']]\n"
     ]
    }
   ],
   "source": [
    "# Find emoji\n",
    "list_of_emoji = []\n",
    "set_of_emoji = set()\n",
    "for i in range(len(list_of_comments)):\n",
    "    emoji = re.findall(\":100:|:[^:\\\"|\\s*|\\[A-Z\\]][a-z_]+[0-9]*:|:[+-]1:|:[a-z]+[0-9]*:\", list_of_comments[i])\n",
    "    # print(emoji)\n",
    "    set_of_emoji.update(emoji)\n",
    "    list_of_emoji.append(emoji)\n",
    "    \n",
    "print(\"__Set__\")\n",
    "print(set_of_emoji)\n",
    "print(\"__List__\")\n",
    "print(list_of_emoji[:20])"
   ]
  },
  {
   "cell_type": "markdown",
   "metadata": {},
   "source": [
    "## Clean up comments"
   ]
  },
  {
   "cell_type": "code",
   "execution_count": 5,
   "metadata": {},
   "outputs": [],
   "source": [
    "# Remove emoji, URLs, commit SHAs, punctuation, extra whitespaces, convert to lowercase\n",
    "\n",
    "processed = []\n",
    "for i in range(len(list_of_comments)):\n",
    "    comment_i = list_of_comments[i]\n",
    "    # Emoji\n",
    "    comment_i = re.sub(\":100:|:[^:\\\"|\\s*|\\[A-Z\\]][a-z_]+[0-9]*:|:[+-]1:|:[a-z]+[0-9]*:\", \"metaemoji\", comment_i)\n",
    "    # URLs\n",
    "    comment_i = re.sub(\"http[s]?://(?:[a-zA-Z]|[0-9]|[$-_@.&+]|[!*\\(\\),]|(?:%[0-9a-fA-F][0-9a-fA-F]))+\", \"metaurl\", comment_i)\n",
    "    # Commit SHAs\n",
    "    comment_i = re.sub(\"[a-zA-Z0-9]{40}\", \"metacommitsha\", comment_i)\n",
    "    # Punctuation\n",
    "    comment_i = re.sub(\"[^\\w\\d\\s]\", \" \", comment_i)\n",
    "    # To lowercase\n",
    "    comment_i = comment_i.lower()\n",
    "    # Replace whitespace between terms with a single space\n",
    "    comment_i = re.sub(\"\\s+\", \" \", comment_i)\n",
    "    # Remove leading and trailing whitespace\n",
    "    comment_i = re.sub(\"^\\s+|\\s+?$\", \"\", comment_i)\n",
    "    processed.append(comment_i)\n",
    "\n",
    "# print(processed)"
   ]
  },
  {
   "cell_type": "code",
   "execution_count": 6,
   "metadata": {},
   "outputs": [],
   "source": [
    "# Tokenize, remove stop words, lemmatize\n",
    "\n",
    "stop_words = set(stopwords.words(\"english\"))\n",
    "lemmatizer = WordNetLemmatizer()\n",
    "clean_comments = []\n",
    "\n",
    "for i in range(len(processed)):\n",
    "    tokenized_comment = word_tokenize(processed[i])\n",
    "    clean = []\n",
    "    for w in tokenized_comment:\n",
    "        if w not in stop_words:\n",
    "            lemmatizer.lemmatize(w)\n",
    "            clean.append(w)\n",
    "    clean = \" \".join(clean)\n",
    "    clean_comments.append(clean)\n",
    "\n",
    "# print(clean_comments)"
   ]
  },
  {
   "cell_type": "markdown",
   "metadata": {},
   "source": [
    "## Define postive, negative, and neutral emoji"
   ]
  },
  {
   "cell_type": "code",
   "execution_count": 7,
   "metadata": {},
   "outputs": [],
   "source": [
    "# Positive emoji\n",
    "pos_emoji = [\":+1:\", \":smile:\", \":rocket:\", \":confetti_ball:\", \":laughing:\", \":white_check_mark:\",\n",
    "             \":wink:\", \":grinning:\", \":wave:\", \":exclamation:\", \":fireworks:\", \":ok_hand:\", \":joy:\",\n",
    "             \":heart_eyes:\", \":heart:\", \":boom:\", \":slightly_smiling_face:\", \":sunglasses:\", \":tada:\",\n",
    "             \":sparkles:\", \":clap:\", \":trollface:\", \":stuck_out_tongue:\", \":heavy_check_mark:\",\n",
    "             \":star:\", \":grin:\", \":blush:\", \":see_no_evil:\", \":sunny:\", \":thumbsup:\", \":cocktail:\",\n",
    "             \":yum:\", \":relaxed:\", \":champagne:\", \":moneybag:\", \":smile_cat:\", \":green_heart:\",\n",
    "             \":sweat_smile:\", \":smiling_imp:\", \":crossed_fingers:\", \":christmas_tree:\", \":santa:\",\n",
    "             \":gift:\", \":bulb:\", \":smiley:\", \":innocent:\", \":vulkan:\", \":trumpet:\", \":upside_down_face:\",\n",
    "             \":bowing_man:\"]\n",
    "\n",
    "# Negative emoji\n",
    "neg_emoji = [\":cry:\", \"-1\", \":fearful:\", \":cold_sweat:\", \":unamused:\", \":confused:\", \":angry:\", \":rage:\",\n",
    "             \":shit:\", \":sheepishly:\", \":x:\", \":no_entry:\", \":no_entry_sign:\", \":sob:\", \":warning:\",\n",
    "             \":rotating_light:\", \":bug:\", \":man_facepalming:\", \":woman_facepalming:\", \":disappointed:\",\n",
    "             \":frowning_face:\", \":roll_eyes:\", \":worried:\", \":panicking:\", \":panic:\", \":imp:\"]\n",
    "\n",
    "# Neutral emoji\n",
    "neut_emoji = [\":book:\", \":muscle:\", \":memo:\", \":keyboard:\", \":arrow_up:\", \":arrow_down:\", \":end:\",\n",
    "              \":robot:\", \":wave:\", \":abcd:\", \":octocat:\", \":recyccle:\", \":neutral_face:\", \":tv:\",\n",
    "              \":start:\", \":pushpin:\", \":hourglass:\", \":tomato:\", \":package:\", \":phone:\", \":pencil2:\",\n",
    "              \":scream_cat:\", \":pray:\", \":thinking:\", \":bee:\", \":point_right:\", \":eyes:\", \":bowtie:\",\n",
    "              \":wrench:\", \":point_down:\", \":pencil:\", \":page_facing_up:\", \":point_left:\", \":green_apple:\",\n",
    "              \":clock10:\", \":scroll:\", \":hourglass:\", \":umbrella:\", \":email:\", \":date:\", \":bigthink:\",\n",
    "              \":construction:\", \":construction_worker:\", \":marker:\", \":page_facing_up:\", \":clock1:\",\n",
    "              \":man_shrugging:\", \":new:\", \":cat2:\"]"
   ]
  },
  {
   "cell_type": "markdown",
   "metadata": {},
   "source": [
    "## Calculate score of each comment based on emoji"
   ]
  },
  {
   "cell_type": "code",
   "execution_count": 8,
   "metadata": {},
   "outputs": [],
   "source": [
    "emoji_classified = []\n",
    "for i in range(len(list_of_emoji)):\n",
    "    emoji_val = 0\n",
    "    for j in range(len(list_of_emoji[i])):\n",
    "        if list_of_emoji[i][j] in pos_emoji:\n",
    "            emoji_val += 1\n",
    "        elif list_of_emoji[i][j] in neg_emoji:\n",
    "            emoji_val -= 1\n",
    "        elif list_of_emoji[i][j] in neut_emoji:\n",
    "            emoji_val += 0\n",
    "        else:\n",
    "            emoji_val += 0\n",
    "    emoji_classified.append(emoji_val)"
   ]
  },
  {
   "cell_type": "markdown",
   "metadata": {},
   "source": [
    "## Create dataframe with cleaned comments and emoji score"
   ]
  },
  {
   "cell_type": "code",
   "execution_count": 9,
   "metadata": {},
   "outputs": [
    {
     "data": {
      "text/html": [
       "<div>\n",
       "<style scoped>\n",
       "    .dataframe tbody tr th:only-of-type {\n",
       "        vertical-align: middle;\n",
       "    }\n",
       "\n",
       "    .dataframe tbody tr th {\n",
       "        vertical-align: top;\n",
       "    }\n",
       "\n",
       "    .dataframe thead th {\n",
       "        text-align: right;\n",
       "    }\n",
       "</style>\n",
       "<table border=\"1\" class=\"dataframe\">\n",
       "  <thead>\n",
       "    <tr style=\"text-align: right;\">\n",
       "      <th></th>\n",
       "      <th>comment</th>\n",
       "      <th>emoji_score</th>\n",
       "    </tr>\n",
       "  </thead>\n",
       "  <tbody>\n",
       "    <tr>\n",
       "      <th>0</th>\n",
       "      <td>step 2 turn github pages nicely done sromanows...</td>\n",
       "      <td>1</td>\n",
       "    </tr>\n",
       "    <tr>\n",
       "      <th>1</th>\n",
       "      <td>codecov metaurl report merging 3362 metaurl ma...</td>\n",
       "      <td>0</td>\n",
       "    </tr>\n",
       "    <tr>\n",
       "      <th>2</th>\n",
       "      <td>codecov metaurl report merging 3362 metaurl ma...</td>\n",
       "      <td>0</td>\n",
       "    </tr>\n",
       "    <tr>\n",
       "      <th>3</th>\n",
       "      <td>nice work celebrate metaurl congratulations ne...</td>\n",
       "      <td>1</td>\n",
       "    </tr>\n",
       "    <tr>\n",
       "      <th>4</th>\n",
       "      <td>codecov metaurl report merging 523 metaurl mas...</td>\n",
       "      <td>0</td>\n",
       "    </tr>\n",
       "    <tr>\n",
       "      <th>5</th>\n",
       "      <td>step 9 use emphasis great job lists let try so...</td>\n",
       "      <td>1</td>\n",
       "    </tr>\n",
       "    <tr>\n",
       "      <th>6</th>\n",
       "      <td>step 1 assign unassigned issues owners look as...</td>\n",
       "      <td>0</td>\n",
       "    </tr>\n",
       "    <tr>\n",
       "      <th>7</th>\n",
       "      <td>githubtesting123 everything lgtm thank helping...</td>\n",
       "      <td>2</td>\n",
       "    </tr>\n",
       "    <tr>\n",
       "      <th>8</th>\n",
       "      <td>step 2 turn github pages metaemoji proud manag...</td>\n",
       "      <td>2</td>\n",
       "    </tr>\n",
       "    <tr>\n",
       "      <th>9</th>\n",
       "      <td>ok yeah dramatic change poly count however see...</td>\n",
       "      <td>-1</td>\n",
       "    </tr>\n",
       "    <tr>\n",
       "      <th>10</th>\n",
       "      <td>step 1 assign unassigned issues owners look as...</td>\n",
       "      <td>0</td>\n",
       "    </tr>\n",
       "    <tr>\n",
       "      <th>11</th>\n",
       "      <td>codecov metaurl report merging 11 metaurl mast...</td>\n",
       "      <td>0</td>\n",
       "    </tr>\n",
       "    <tr>\n",
       "      <th>12</th>\n",
       "      <td>step 2 turn github pages metaemoji proud manag...</td>\n",
       "      <td>2</td>\n",
       "    </tr>\n",
       "    <tr>\n",
       "      <th>13</th>\n",
       "      <td>step 1 assign unassigned issues owners look as...</td>\n",
       "      <td>0</td>\n",
       "    </tr>\n",
       "    <tr>\n",
       "      <th>14</th>\n",
       "      <td>adding project project boards columns columns ...</td>\n",
       "      <td>0</td>\n",
       "    </tr>\n",
       "    <tr>\n",
       "      <th>15</th>\n",
       "      <td>cool issues metaemoji</td>\n",
       "      <td>1</td>\n",
       "    </tr>\n",
       "    <tr>\n",
       "      <th>16</th>\n",
       "      <td>step 3 close issue turned github pages site vi...</td>\n",
       "      <td>0</td>\n",
       "    </tr>\n",
       "    <tr>\n",
       "      <th>17</th>\n",
       "      <td>would nice screenshots compare metaemoji</td>\n",
       "      <td>1</td>\n",
       "    </tr>\n",
       "    <tr>\n",
       "      <th>18</th>\n",
       "      <td>step 2 turn github pages metaemoji proud manag...</td>\n",
       "      <td>2</td>\n",
       "    </tr>\n",
       "    <tr>\n",
       "      <th>19</th>\n",
       "      <td>step 4 merge headers see added least one heade...</td>\n",
       "      <td>0</td>\n",
       "    </tr>\n",
       "  </tbody>\n",
       "</table>\n",
       "</div>"
      ],
      "text/plain": [
       "                                              comment  emoji_score\n",
       "0   step 2 turn github pages nicely done sromanows...            1\n",
       "1   codecov metaurl report merging 3362 metaurl ma...            0\n",
       "2   codecov metaurl report merging 3362 metaurl ma...            0\n",
       "3   nice work celebrate metaurl congratulations ne...            1\n",
       "4   codecov metaurl report merging 523 metaurl mas...            0\n",
       "5   step 9 use emphasis great job lists let try so...            1\n",
       "6   step 1 assign unassigned issues owners look as...            0\n",
       "7   githubtesting123 everything lgtm thank helping...            2\n",
       "8   step 2 turn github pages metaemoji proud manag...            2\n",
       "9   ok yeah dramatic change poly count however see...           -1\n",
       "10  step 1 assign unassigned issues owners look as...            0\n",
       "11  codecov metaurl report merging 11 metaurl mast...            0\n",
       "12  step 2 turn github pages metaemoji proud manag...            2\n",
       "13  step 1 assign unassigned issues owners look as...            0\n",
       "14  adding project project boards columns columns ...            0\n",
       "15                              cool issues metaemoji            1\n",
       "16  step 3 close issue turned github pages site vi...            0\n",
       "17           would nice screenshots compare metaemoji            1\n",
       "18  step 2 turn github pages metaemoji proud manag...            2\n",
       "19  step 4 merge headers see added least one heade...            0"
      ]
     },
     "execution_count": 9,
     "metadata": {},
     "output_type": "execute_result"
    }
   ],
   "source": [
    "emoji_data = {\"comment\": clean_comments, \"emoji_score\": emoji_classified}\n",
    "final_df = pd.DataFrame(data=emoji_data)\n",
    "final_df[:20]"
   ]
  },
  {
   "cell_type": "code",
   "execution_count": 10,
   "metadata": {},
   "outputs": [
    {
     "name": "stdout",
     "output_type": "stream",
     "text": [
      " 0     581\n",
      " 1     351\n",
      " 3      79\n",
      " 2      56\n",
      "-1      25\n",
      "-2       3\n",
      "-3       1\n",
      "-16      1\n",
      " 31      1\n",
      " 21      1\n",
      " 17      1\n",
      " 15      1\n",
      " 12      1\n",
      " 10      1\n",
      " 7       1\n",
      "Name: emoji_score, dtype: int64\n"
     ]
    }
   ],
   "source": [
    "classes = final_df['emoji_score']\n",
    "print(classes.value_counts())"
   ]
  },
  {
   "cell_type": "markdown",
   "metadata": {},
   "source": [
    "## Define features"
   ]
  },
  {
   "cell_type": "code",
   "execution_count": 11,
   "metadata": {},
   "outputs": [
    {
     "data": {
      "text/plain": [
       "scipy.sparse.csr.csr_matrix"
      ]
     },
     "execution_count": 11,
     "metadata": {},
     "output_type": "execute_result"
    }
   ],
   "source": [
    "# Vectorization\n",
    "tf = TfidfVectorizer()\n",
    "text_tf = tf.fit_transform(final_df['comment'])\n",
    "type(text_tf)"
   ]
  },
  {
   "cell_type": "code",
   "execution_count": 12,
   "metadata": {},
   "outputs": [],
   "source": [
    "# Define a seed for reproducibility\n",
    "seed = 1\n",
    "np.random.seed = seed\n",
    "np.random.shuffle(list_of_comments)"
   ]
  },
  {
   "cell_type": "markdown",
   "metadata": {},
   "source": [
    "## Apply learning algorithm"
   ]
  },
  {
   "cell_type": "code",
   "execution_count": 13,
   "metadata": {},
   "outputs": [],
   "source": [
    "# Split data into train and test\n",
    "X_train, X_test, y_train, y_test = train_test_split(text_tf,\n",
    "                                                    final_df['emoji_score'],\n",
    "                                                    test_size=0.25,\n",
    "                                                    random_state=seed)"
   ]
  },
  {
   "cell_type": "code",
   "execution_count": 14,
   "metadata": {},
   "outputs": [
    {
     "name": "stdout",
     "output_type": "stream",
     "text": [
      "(828, 14126)\n",
      "(276, 14126)\n",
      "(828,)\n",
      "(276,)\n"
     ]
    }
   ],
   "source": [
    "print(X_train.shape)\n",
    "print(X_test.shape)\n",
    "print(y_train.shape)\n",
    "print(y_test.shape)"
   ]
  },
  {
   "cell_type": "code",
   "execution_count": 15,
   "metadata": {},
   "outputs": [
    {
     "name": "stdout",
     "output_type": "stream",
     "text": [
      "MultinomialNB Accuracy: 0.8297101449275363\n"
     ]
    }
   ],
   "source": [
    "# Model Generation Using Multinomial Naive Bayes\n",
    "# Train the model with train x and train y\n",
    "clf = MultinomialNB().fit(X_train, y_train)\n",
    "# Predict y using test x\n",
    "y_predicted = clf.predict(X_test)\n",
    "print(\"MultinomialNB Accuracy:\", metrics.accuracy_score(y_test, y_predicted))"
   ]
  },
  {
   "cell_type": "code",
   "execution_count": null,
   "metadata": {},
   "outputs": [],
   "source": []
  }
 ],
 "metadata": {
  "kernelspec": {
   "display_name": "Python 3",
   "language": "python",
   "name": "python3"
  },
  "language_info": {
   "codemirror_mode": {
    "name": "ipython",
    "version": 3
   },
   "file_extension": ".py",
   "mimetype": "text/x-python",
   "name": "python",
   "nbconvert_exporter": "python",
   "pygments_lexer": "ipython3",
   "version": "3.7.1"
  }
 },
 "nbformat": 4,
 "nbformat_minor": 2
}
