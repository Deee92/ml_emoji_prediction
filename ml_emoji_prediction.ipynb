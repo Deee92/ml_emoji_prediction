{
 "cells": [
  {
   "cell_type": "markdown",
   "metadata": {},
   "source": [
    "# Import packages"
   ]
  },
  {
   "cell_type": "code",
   "execution_count": 1,
   "metadata": {},
   "outputs": [],
   "source": [
    "import re\n",
    "import json\n",
    "import numpy as np\n",
    "import pandas as pd\n",
    "from pandas.io.json import json_normalize\n",
    "from nltk.tokenize import word_tokenize\n",
    "from nltk.stem import WordNetLemmatizer\n",
    "from nltk.corpus import stopwords\n",
    "from sklearn.feature_extraction.text import TfidfVectorizer\n",
    "from sklearn.model_selection import train_test_split\n",
    "from sklearn.naive_bayes import MultinomialNB\n",
    "from sklearn.svm import LinearSVC\n",
    "from sklearn import svm\n",
    "from sklearn.metrics import accuracy_score, precision_score, recall_score, confusion_matrix\n",
    "import matplotlib.pyplot as plt\n",
    "%matplotlib inline"
   ]
  },
  {
   "cell_type": "markdown",
   "metadata": {},
   "source": [
    "# Load file"
   ]
  },
  {
   "cell_type": "code",
   "execution_count": 2,
   "metadata": {},
   "outputs": [
    {
     "name": "stdout",
     "output_type": "stream",
     "text": [
      "                                payload.comment.body\n",
      "0  ## Step 2: Turn on GitHub Pages\\n\\nNicely done...\n",
      "1  # [Codecov](https://codecov.io/gh/gitcoinco/we...\n",
      "2  # [Codecov](https://codecov.io/gh/gitcoinco/we...\n",
      "3  ## Nice work\\n\\n![celebrate](https://octodex.g...\n",
      "4  # [Codecov](https://codecov.io/gh/poliastro/po...\n",
      "(1104, 1)\n"
     ]
    }
   ],
   "source": [
    "my_file = json.loads(open(r\"comments_with_emoji_toarray.json\", \"r\").read())\n",
    "df = json_normalize(my_file)\n",
    "print(df.head())\n",
    "print(df.shape)"
   ]
  },
  {
   "cell_type": "markdown",
   "metadata": {},
   "source": [
    "# Extract comments into a list"
   ]
  },
  {
   "cell_type": "code",
   "execution_count": 3,
   "metadata": {},
   "outputs": [
    {
     "name": "stdout",
     "output_type": "stream",
     "text": [
      "## Step 2: Turn on GitHub Pages\n",
      "\n",
      "Nicely done @sromanowski12! At least one task in your Markdown to-do list is correct. :sparkles:\n",
      "\n",
      "Now let's turn our focus to the content of your portfolio. Because this portfolio will be displayed as a static web page, you'll need to enable GitHub Pages.\n",
      "\n",
      "### :keyboard: Activity: Enable GitHub Pages\n",
      "1. Under your repository name, click [**Settings**](https://github.com/sromanowski12/markdown-portfolio/settings).\n",
      "1. In the **GitHub Pages** section, use the **Select source** drop-down menu to select `master` as your GitHub Pages publishing source.\n",
      "1. Click **Save**.\n",
      "\n",
      "> _I may take up to a minute to respond as I wait for GitHub Pages to create a deployment of your repository_.\n",
      "\n",
      "> _For more information, see [Configuring a publishing source for GitHub Pages](https://help.github.com/articles/configuring-a-publishing-source-for-github-pages/) in the GitHub Help._\n",
      "\n",
      "<hr>\n",
      "<h3 align=\"center\">Return to this issue for next steps</h3>\n",
      "\n"
     ]
    }
   ],
   "source": [
    "list_of_comments = []\n",
    "row_count = df.shape[0]\n",
    "for i in range(row_count):\n",
    "    list_of_comments.append(df['payload.comment.body'][i])\n",
    "print(list_of_comments[0])"
   ]
  },
  {
   "cell_type": "markdown",
   "metadata": {},
   "source": [
    "# Extract emoji from each comment"
   ]
  },
  {
   "cell_type": "code",
   "execution_count": 4,
   "metadata": {},
   "outputs": [
    {
     "name": "stdout",
     "output_type": "stream",
     "text": [
      "__Set__\n",
      "{':scream_cat:', ':keyboard:', ':no_entry:', ':di:', ':pencil2:', ':serverip:', ':trace:', ':other:', ':http:', ':no_entry_sign:', ':moneybag:', ':rotating_light:', ':authors:', ':0e:', ':x:', ':exclamation:', ':function:', ':sweat_smile:', ':emails:', ':confused:', ':disappointed:', ':point_down:', ':point_left:', ':man_shrugging:', ':heavy_check_mark:', ':wrench:', ':email:', ':smiling_imp:', ':executors:', ':green_heart:', ':rocket:', ':thumbsup:', ':ir:', ':octocat:', ':ip:', ':width:', ':wave:', ':detail:', ':man_facepalming:', ':bee:', ':pcsc_transmit:', ':https:', ':glide:', ':point_right:', ':filechooser:', ':heart:', ':4c:', ':gpioa:', ':worried:', ':logic_error:', ':object:', ':write:', ':@hint:', ':yp:', ':champagne:', ':bigthink:', ':runtime:', ':startup:', ':tada:', ':sc_unlock:', ':clock1:', ':page_facing_up:', ':string:', ':end:', ':sheepishly:', ':handle:', ':byond_version:', ':arrow_up:', ':json:', ':0b:', ':feaa:', ':yum:', ':grinning:', ':pcsc_internal_transmit:', ':ffff:', ':ops:', ':clap:', ':2e:', ':fixme:', ':see_no_evil:', ':100:', ':construction:', ':star:', ':game_id:', ':beast:', ':app:', ':math:', ':santa:', ':summary:', ':muscle_card_reader_lock_obtained:', ':cocktail:', ':tags:', ':kappa:', ':fields:', ':tv:', ':sc_lock:', ':6c:', ':pcsc_lock:', ':error:', ':date:', ':generator:', ':aeb1:', ':callbacks:', ':sunny:', ':6f:', ':crossed_fingers:', ':chrono:', ':robot:', ':serial:', ':utils:', ':relaxed:', ':random_device:', ':shipit:', ':<ip:', ':package:', ':arrow_down:', ':display:', ':start:', ':clock10:', ':smile_cat:', ':computerid:', ':gpio:', ':sc_single_transmit:', ':eyes:', ':cry:', ':data:', ':confetti_ball:', ':threads:', ':byond_build:', ':christmas_tree:', ':-1:', ':d7:', ':1a:', ':pray:', ':innocent:', ':sc_transmit:', ':hourglass:', ':7c:', ':woman_facepalming:', ':/sbin:', ':ckey:', ':2b:', ':ios_base:', ':float:', ':test:', ':install:', ':locale:', ':ok_hand:', ':wink:', ':ff:', ':pencil:', ':yuso:', ':ems:', ':book:', ':blush:', ':err:', ':bug:', ':sparkles:', ':<https:', ':memo:', ':+1:', ':smile:', ':phone:', ':green_apple:', ':tomato:', ':joy:', ':6eb0:', ':laughing:', ':workflow:', ':color:', ':muscle:', ':pushpin:', ':roll_eyes:', ':trollface:', ':6e:', ':sob:', ':gift:', ':high_resolution_clock:', ':clone:', ':marker:', ':slightly_smiling_face:', ':warning:', ':s:', ':fireworks:', ':dist:', ':bulb:', ':smiley:', ':thinking:', ':sc_transmit_apdu:', ':abcd:', ':vulkan:', ':bowtie:', ':fe:', ':sunglasses:', ':grin:', ':ee:', ':scroll:', ':construction_worker:', ':stuck_out_tongue:', ':_except_hook_log_everything:', ':serokell:', ':umbrella:', ':frowning_face:', ':white_check_mark:', ':category:', ':slug:', ':recycle:', ':mig:', ':c:'}\n",
      "__List__\n",
      "[[':sparkles:', ':keyboard:'], [':arrow_up:', ':arrow_down:', ':arrow_up:'], [':arrow_up:', ':arrow_down:', ':arrow_up:'], [':tada:'], [':arrow_up:', ':arrow_up:', ':arrow_down:'], [':keyboard:', ':sparkles:'], [':muscle:', ':keyboard:'], [':+1:', ':+1:'], [':tada:', ':sunglasses:', ':keyboard:'], [':phone:', ':no_entry:'], [':muscle:', ':keyboard:'], [':arrow_up:', ':arrow_up:', ':arrow_up:', ':arrow_up:'], [':tada:', ':sunglasses:', ':keyboard:'], [':muscle:', ':keyboard:'], [':keyboard:'], [':grin:'], [':keyboard:'], [':smiley:'], [':tada:', ':sunglasses:', ':keyboard:'], [':book:', ':keyboard:']]\n"
     ]
    }
   ],
   "source": [
    "# Find emoji\n",
    "list_of_emoji = []\n",
    "set_of_emoji = set()\n",
    "for i in range(len(list_of_comments)):\n",
    "    emoji = re.findall(\":100:|:[^:\\\"|\\s*|\\[A-Z\\]][a-z_]+[0-9]*:|:[+-]1:|:[a-z]+[0-9]*:\", list_of_comments[i])\n",
    "    # print(emoji)\n",
    "    set_of_emoji.update(emoji)\n",
    "    list_of_emoji.append(emoji)\n",
    "    \n",
    "print(\"__Set__\")\n",
    "print(set_of_emoji)\n",
    "print(\"__List__\")\n",
    "print(list_of_emoji[:20])"
   ]
  },
  {
   "cell_type": "markdown",
   "metadata": {},
   "source": [
    "# Clean up comments"
   ]
  },
  {
   "cell_type": "code",
   "execution_count": 5,
   "metadata": {},
   "outputs": [],
   "source": [
    "# Remove emoji, URLs, commit SHAs, punctuation, extra whitespaces, convert to lowercase\n",
    "\n",
    "processed = []\n",
    "for i in range(len(list_of_comments)):\n",
    "    comment_i = list_of_comments[i]\n",
    "    # Emoji\n",
    "    comment_i = re.sub(\":100:|:[^:\\\"|\\s*|\\[A-Z\\]][a-z_]+[0-9]*:|:[+-]1:|:[a-z]+[0-9]*:\", \"metaemoji\", comment_i)\n",
    "    # URLs\n",
    "    comment_i = re.sub(\"http[s]?://(?:[a-zA-Z]|[0-9]|[$-_@.&+]|[!*\\(\\),]|(?:%[0-9a-fA-F][0-9a-fA-F]))+\", \"metaurl\", comment_i)\n",
    "    # Commit SHAs\n",
    "    comment_i = re.sub(\"[a-zA-Z0-9]{40}\", \"metacommitsha\", comment_i)\n",
    "    # Punctuation\n",
    "    comment_i = re.sub(\"[^\\w\\d\\s]\", \" \", comment_i)\n",
    "    # To lowercase\n",
    "    comment_i = comment_i.lower()\n",
    "    # Replace whitespace between terms with a single space\n",
    "    comment_i = re.sub(\"\\s+\", \" \", comment_i)\n",
    "    # Remove leading and trailing whitespace\n",
    "    comment_i = re.sub(\"^\\s+|\\s+?$\", \"\", comment_i)\n",
    "    processed.append(comment_i)\n",
    "\n",
    "# print(processed)"
   ]
  },
  {
   "cell_type": "code",
   "execution_count": 6,
   "metadata": {},
   "outputs": [],
   "source": [
    "# Tokenize, remove stop words, lemmatize\n",
    "\n",
    "stop_words = set(stopwords.words(\"english\"))\n",
    "lemmatizer = WordNetLemmatizer()\n",
    "clean_comments = []\n",
    "\n",
    "for i in range(len(processed)):\n",
    "    tokenized_comment = word_tokenize(processed[i])\n",
    "    clean = []\n",
    "    for w in tokenized_comment:\n",
    "        if w not in stop_words:\n",
    "            lemmatizer.lemmatize(w)\n",
    "            clean.append(w)\n",
    "    clean = \" \".join(clean)\n",
    "    clean_comments.append(clean)\n",
    "\n",
    "# print(clean_comments)"
   ]
  },
  {
   "cell_type": "markdown",
   "metadata": {},
   "source": [
    "# Define positive, negative, and neutral emoji"
   ]
  },
  {
   "cell_type": "code",
   "execution_count": 7,
   "metadata": {},
   "outputs": [],
   "source": [
    "# Positive emoji\n",
    "pos_emoji = [\":+1:\", \":smile:\", \":rocket:\", \":confetti_ball:\", \":laughing:\", \":white_check_mark:\",\n",
    "             \":wink:\", \":grinning:\", \":wave:\", \":exclamation:\", \":fireworks:\", \":ok_hand:\", \":joy:\",\n",
    "             \":heart_eyes:\", \":heart:\", \":boom:\", \":slightly_smiling_face:\", \":sunglasses:\", \":tada:\",\n",
    "             \":sparkles:\", \":clap:\", \":trollface:\", \":stuck_out_tongue:\", \":heavy_check_mark:\",\n",
    "             \":star:\", \":grin:\", \":blush:\", \":see_no_evil:\", \":sunny:\", \":thumbsup:\", \":cocktail:\",\n",
    "             \":yum:\", \":relaxed:\", \":champagne:\", \":moneybag:\", \":smile_cat:\", \":green_heart:\",\n",
    "             \":sweat_smile:\", \":smiling_imp:\", \":crossed_fingers:\", \":christmas_tree:\", \":santa:\",\n",
    "             \":gift:\", \":bulb:\", \":smiley:\", \":innocent:\", \":vulkan:\", \":trumpet:\", \":upside_down_face:\",\n",
    "             \":bowing_man:\"]\n",
    "\n",
    "# Negative emoji\n",
    "neg_emoji = [\":cry:\", \"-1\", \":fearful:\", \":cold_sweat:\", \":unamused:\", \":confused:\", \":angry:\", \":rage:\",\n",
    "             \":shit:\", \":sheepishly:\", \":x:\", \":no_entry:\", \":no_entry_sign:\", \":sob:\", \":warning:\",\n",
    "             \":rotating_light:\", \":bug:\", \":man_facepalming:\", \":woman_facepalming:\", \":disappointed:\",\n",
    "             \":frowning_face:\", \":roll_eyes:\", \":worried:\", \":panicking:\", \":panic:\", \":imp:\"]\n",
    "\n",
    "# Neutral emoji\n",
    "neut_emoji = [\":book:\", \":muscle:\", \":memo:\", \":keyboard:\", \":arrow_up:\", \":arrow_down:\", \":end:\",\n",
    "              \":robot:\", \":wave:\", \":abcd:\", \":octocat:\", \":recyccle:\", \":neutral_face:\", \":tv:\",\n",
    "              \":start:\", \":pushpin:\", \":hourglass:\", \":tomato:\", \":package:\", \":phone:\", \":pencil2:\",\n",
    "              \":scream_cat:\", \":pray:\", \":thinking:\", \":bee:\", \":point_right:\", \":eyes:\", \":bowtie:\",\n",
    "              \":wrench:\", \":point_down:\", \":pencil:\", \":page_facing_up:\", \":point_left:\", \":green_apple:\",\n",
    "              \":clock10:\", \":scroll:\", \":hourglass:\", \":umbrella:\", \":email:\", \":date:\", \":bigthink:\",\n",
    "              \":construction:\", \":construction_worker:\", \":marker:\", \":page_facing_up:\", \":clock1:\",\n",
    "              \":man_shrugging:\", \":new:\", \":cat2:\"]"
   ]
  },
  {
   "cell_type": "markdown",
   "metadata": {},
   "source": [
    "# Calculate score of each comment based on emoji"
   ]
  },
  {
   "cell_type": "code",
   "execution_count": 8,
   "metadata": {},
   "outputs": [],
   "source": [
    "emoji_classified = []\n",
    "for i in range(len(list_of_emoji)):\n",
    "    emoji_val = 0\n",
    "    for j in range(len(list_of_emoji[i])):\n",
    "        if list_of_emoji[i][j] in pos_emoji:\n",
    "            emoji_val += 1\n",
    "        elif list_of_emoji[i][j] in neg_emoji:\n",
    "            emoji_val -= 1\n",
    "        elif list_of_emoji[i][j] in neut_emoji:\n",
    "            emoji_val += 0\n",
    "        else:\n",
    "            emoji_val += 0\n",
    "    emoji_classified.append(emoji_val)"
   ]
  },
  {
   "cell_type": "code",
   "execution_count": 9,
   "metadata": {},
   "outputs": [],
   "source": [
    "for i in range(len(emoji_classified)):\n",
    "    if emoji_classified[i] > 0:\n",
    "        emoji_classified[i] = 1\n",
    "    elif emoji_classified[i] < 0:\n",
    "        emoji_classified[i] = -1\n",
    "    else:\n",
    "        emoji_classified[i] = 0"
   ]
  },
  {
   "cell_type": "markdown",
   "metadata": {},
   "source": [
    "# Create dataframe with cleaned comments and emoji score"
   ]
  },
  {
   "cell_type": "code",
   "execution_count": 10,
   "metadata": {},
   "outputs": [
    {
     "data": {
      "text/html": [
       "<div>\n",
       "<style scoped>\n",
       "    .dataframe tbody tr th:only-of-type {\n",
       "        vertical-align: middle;\n",
       "    }\n",
       "\n",
       "    .dataframe tbody tr th {\n",
       "        vertical-align: top;\n",
       "    }\n",
       "\n",
       "    .dataframe thead th {\n",
       "        text-align: right;\n",
       "    }\n",
       "</style>\n",
       "<table border=\"1\" class=\"dataframe\">\n",
       "  <thead>\n",
       "    <tr style=\"text-align: right;\">\n",
       "      <th></th>\n",
       "      <th>comment</th>\n",
       "      <th>emoji_score</th>\n",
       "    </tr>\n",
       "  </thead>\n",
       "  <tbody>\n",
       "    <tr>\n",
       "      <th>0</th>\n",
       "      <td>step 2 turn github pages nicely done sromanows...</td>\n",
       "      <td>1</td>\n",
       "    </tr>\n",
       "    <tr>\n",
       "      <th>1</th>\n",
       "      <td>codecov metaurl report merging 3362 metaurl ma...</td>\n",
       "      <td>0</td>\n",
       "    </tr>\n",
       "    <tr>\n",
       "      <th>2</th>\n",
       "      <td>codecov metaurl report merging 3362 metaurl ma...</td>\n",
       "      <td>0</td>\n",
       "    </tr>\n",
       "    <tr>\n",
       "      <th>3</th>\n",
       "      <td>nice work celebrate metaurl congratulations ne...</td>\n",
       "      <td>1</td>\n",
       "    </tr>\n",
       "    <tr>\n",
       "      <th>4</th>\n",
       "      <td>codecov metaurl report merging 523 metaurl mas...</td>\n",
       "      <td>0</td>\n",
       "    </tr>\n",
       "    <tr>\n",
       "      <th>5</th>\n",
       "      <td>step 9 use emphasis great job lists let try so...</td>\n",
       "      <td>1</td>\n",
       "    </tr>\n",
       "    <tr>\n",
       "      <th>6</th>\n",
       "      <td>step 1 assign unassigned issues owners look as...</td>\n",
       "      <td>0</td>\n",
       "    </tr>\n",
       "    <tr>\n",
       "      <th>7</th>\n",
       "      <td>githubtesting123 everything lgtm thank helping...</td>\n",
       "      <td>1</td>\n",
       "    </tr>\n",
       "    <tr>\n",
       "      <th>8</th>\n",
       "      <td>step 2 turn github pages metaemoji proud manag...</td>\n",
       "      <td>1</td>\n",
       "    </tr>\n",
       "    <tr>\n",
       "      <th>9</th>\n",
       "      <td>ok yeah dramatic change poly count however see...</td>\n",
       "      <td>-1</td>\n",
       "    </tr>\n",
       "    <tr>\n",
       "      <th>10</th>\n",
       "      <td>step 1 assign unassigned issues owners look as...</td>\n",
       "      <td>0</td>\n",
       "    </tr>\n",
       "    <tr>\n",
       "      <th>11</th>\n",
       "      <td>codecov metaurl report merging 11 metaurl mast...</td>\n",
       "      <td>0</td>\n",
       "    </tr>\n",
       "    <tr>\n",
       "      <th>12</th>\n",
       "      <td>step 2 turn github pages metaemoji proud manag...</td>\n",
       "      <td>1</td>\n",
       "    </tr>\n",
       "    <tr>\n",
       "      <th>13</th>\n",
       "      <td>step 1 assign unassigned issues owners look as...</td>\n",
       "      <td>0</td>\n",
       "    </tr>\n",
       "    <tr>\n",
       "      <th>14</th>\n",
       "      <td>adding project project boards columns columns ...</td>\n",
       "      <td>0</td>\n",
       "    </tr>\n",
       "    <tr>\n",
       "      <th>15</th>\n",
       "      <td>cool issues metaemoji</td>\n",
       "      <td>1</td>\n",
       "    </tr>\n",
       "    <tr>\n",
       "      <th>16</th>\n",
       "      <td>step 3 close issue turned github pages site vi...</td>\n",
       "      <td>0</td>\n",
       "    </tr>\n",
       "    <tr>\n",
       "      <th>17</th>\n",
       "      <td>would nice screenshots compare metaemoji</td>\n",
       "      <td>1</td>\n",
       "    </tr>\n",
       "    <tr>\n",
       "      <th>18</th>\n",
       "      <td>step 2 turn github pages metaemoji proud manag...</td>\n",
       "      <td>1</td>\n",
       "    </tr>\n",
       "    <tr>\n",
       "      <th>19</th>\n",
       "      <td>step 4 merge headers see added least one heade...</td>\n",
       "      <td>0</td>\n",
       "    </tr>\n",
       "  </tbody>\n",
       "</table>\n",
       "</div>"
      ],
      "text/plain": [
       "                                              comment  emoji_score\n",
       "0   step 2 turn github pages nicely done sromanows...            1\n",
       "1   codecov metaurl report merging 3362 metaurl ma...            0\n",
       "2   codecov metaurl report merging 3362 metaurl ma...            0\n",
       "3   nice work celebrate metaurl congratulations ne...            1\n",
       "4   codecov metaurl report merging 523 metaurl mas...            0\n",
       "5   step 9 use emphasis great job lists let try so...            1\n",
       "6   step 1 assign unassigned issues owners look as...            0\n",
       "7   githubtesting123 everything lgtm thank helping...            1\n",
       "8   step 2 turn github pages metaemoji proud manag...            1\n",
       "9   ok yeah dramatic change poly count however see...           -1\n",
       "10  step 1 assign unassigned issues owners look as...            0\n",
       "11  codecov metaurl report merging 11 metaurl mast...            0\n",
       "12  step 2 turn github pages metaemoji proud manag...            1\n",
       "13  step 1 assign unassigned issues owners look as...            0\n",
       "14  adding project project boards columns columns ...            0\n",
       "15                              cool issues metaemoji            1\n",
       "16  step 3 close issue turned github pages site vi...            0\n",
       "17           would nice screenshots compare metaemoji            1\n",
       "18  step 2 turn github pages metaemoji proud manag...            1\n",
       "19  step 4 merge headers see added least one heade...            0"
      ]
     },
     "execution_count": 10,
     "metadata": {},
     "output_type": "execute_result"
    }
   ],
   "source": [
    "emoji_data = {\"comment\": clean_comments, \"emoji_score\": emoji_classified}\n",
    "final_df = pd.DataFrame(data=emoji_data)\n",
    "final_df[:20]"
   ]
  },
  {
   "cell_type": "code",
   "execution_count": 11,
   "metadata": {},
   "outputs": [
    {
     "name": "stdout",
     "output_type": "stream",
     "text": [
      " 0    581\n",
      " 1    493\n",
      "-1     30\n",
      "Name: emoji_score, dtype: int64\n"
     ]
    }
   ],
   "source": [
    "classes = final_df['emoji_score']\n",
    "print(classes.value_counts())"
   ]
  },
  {
   "cell_type": "markdown",
   "metadata": {},
   "source": [
    "# Define features"
   ]
  },
  {
   "cell_type": "code",
   "execution_count": 12,
   "metadata": {},
   "outputs": [
    {
     "data": {
      "text/plain": [
       "scipy.sparse.csr.csr_matrix"
      ]
     },
     "execution_count": 12,
     "metadata": {},
     "output_type": "execute_result"
    }
   ],
   "source": [
    "# Vectorization\n",
    "tf = TfidfVectorizer()\n",
    "text_tf = tf.fit_transform(final_df['comment'])\n",
    "type(text_tf)"
   ]
  },
  {
   "cell_type": "code",
   "execution_count": 13,
   "metadata": {},
   "outputs": [],
   "source": [
    "# Define a seed for reproducibility\n",
    "seed = 1\n",
    "np.random.seed = seed\n",
    "np.random.shuffle(list_of_comments)"
   ]
  },
  {
   "cell_type": "markdown",
   "metadata": {},
   "source": [
    "# Split data into train and test"
   ]
  },
  {
   "cell_type": "code",
   "execution_count": 14,
   "metadata": {},
   "outputs": [],
   "source": [
    "def split_data(percentage):\n",
    "    return train_test_split(text_tf,\n",
    "                            final_df['emoji_score'],\n",
    "                            test_size=percentage,\n",
    "                            random_state=seed)"
   ]
  },
  {
   "cell_type": "code",
   "execution_count": 15,
   "metadata": {},
   "outputs": [
    {
     "name": "stdout",
     "output_type": "stream",
     "text": [
      "(662, 14126)\n",
      "(442, 14126)\n",
      "(662,)\n",
      "(442,)\n"
     ]
    }
   ],
   "source": [
    "# Split data into train and test (60 : 40)\n",
    "X_train_60, X_test_60, y_train_60, y_test_60 = split_data(0.40)\n",
    "print(X_train_60.shape)\n",
    "print(X_test_60.shape)\n",
    "print(y_train_60.shape)\n",
    "print(y_test_60.shape)"
   ]
  },
  {
   "cell_type": "code",
   "execution_count": 16,
   "metadata": {},
   "outputs": [
    {
     "name": "stdout",
     "output_type": "stream",
     "text": [
      "(717, 14126)\n",
      "(387, 14126)\n",
      "(717,)\n",
      "(387,)\n"
     ]
    }
   ],
   "source": [
    "# Split data into train and test (65 : 35)\n",
    "X_train_65, X_test_65, y_train_65, y_test_65 = split_data(0.35)\n",
    "print(X_train_65.shape)\n",
    "print(X_test_65.shape)\n",
    "print(y_train_65.shape)\n",
    "print(y_test_65.shape)"
   ]
  },
  {
   "cell_type": "code",
   "execution_count": 17,
   "metadata": {},
   "outputs": [
    {
     "name": "stdout",
     "output_type": "stream",
     "text": [
      "(772, 14126)\n",
      "(332, 14126)\n",
      "(772,)\n",
      "(332,)\n"
     ]
    }
   ],
   "source": [
    "# Split data into train and test (70 : 30)\n",
    "X_train_70, X_test_70, y_train_70, y_test_70 = split_data(0.30)\n",
    "print(X_train_70.shape)\n",
    "print(X_test_70.shape)\n",
    "print(y_train_70.shape)\n",
    "print(y_test_70.shape)"
   ]
  },
  {
   "cell_type": "code",
   "execution_count": 18,
   "metadata": {},
   "outputs": [
    {
     "name": "stdout",
     "output_type": "stream",
     "text": [
      "(828, 14126)\n",
      "(276, 14126)\n",
      "(828,)\n",
      "(276,)\n"
     ]
    }
   ],
   "source": [
    "# Split data into train and test (75 : 25)\n",
    "X_train_75, X_test_75, y_train_75, y_test_75 = split_data(0.25)\n",
    "print(X_train_75.shape)\n",
    "print(X_test_75.shape)\n",
    "print(y_train_75.shape)\n",
    "print(y_test_75.shape)"
   ]
  },
  {
   "cell_type": "markdown",
   "metadata": {},
   "source": [
    "# Use models"
   ]
  },
  {
   "cell_type": "code",
   "execution_count": 19,
   "metadata": {},
   "outputs": [],
   "source": [
    "model_one = MultinomialNB()\n",
    "model_two = svm.SVC(kernel='linear')\n",
    "model_three = svm.SVC(kernel='poly', gamma='scale')\n",
    "model_four = svm.SVC(kernel='rbf', gamma='scale')"
   ]
  },
  {
   "cell_type": "markdown",
   "metadata": {},
   "source": [
    "# Train and test models"
   ]
  },
  {
   "cell_type": "code",
   "execution_count": 20,
   "metadata": {},
   "outputs": [
    {
     "name": "stdout",
     "output_type": "stream",
     "text": [
      "Multinomial NB on 60% training data\n",
      "0.8846153846153846\n",
      "Multinomial NB on 65% training data\n",
      "0.8785529715762274\n",
      "Multinomial NB on 70% training data\n",
      "0.8734939759036144\n",
      "Multinomial NB on 75% training data\n",
      "0.8876811594202898\n",
      "MultinomialNB accuracies:  [0.8846153846153846, 0.8785529715762274, 0.8734939759036144, 0.8876811594202898]\n"
     ]
    }
   ],
   "source": [
    "accuracy_model_one = []\n",
    "print(\"Multinomial NB on 60% training data\")\n",
    "model_one.fit(X_train_60, y_train_60)\n",
    "print(model_one.score(X_test_60, y_test_60))\n",
    "accuracy_model_one.append(model_one.score(X_test_60, y_test_60))\n",
    "\n",
    "print(\"Multinomial NB on 65% training data\")\n",
    "model_one.fit(X_train_65, y_train_65)\n",
    "print(model_one.score(X_test_65, y_test_65))\n",
    "accuracy_model_one.append(model_one.score(X_test_65, y_test_65))\n",
    "\n",
    "print(\"Multinomial NB on 70% training data\")\n",
    "model_one.fit(X_train_70, y_train_70)\n",
    "print(model_one.score(X_test_70, y_test_70))\n",
    "accuracy_model_one.append(model_one.score(X_test_70, y_test_70))\n",
    "\n",
    "print(\"Multinomial NB on 75% training data\")\n",
    "model_one.fit(X_train_75, y_train_75)\n",
    "print(model_one.score(X_test_75, y_test_75))\n",
    "accuracy_model_one.append(model_one.score(X_test_75, y_test_75))\n",
    "\n",
    "print(\"MultinomialNB accuracies: \", accuracy_model_one)"
   ]
  },
  {
   "cell_type": "code",
   "execution_count": 21,
   "metadata": {},
   "outputs": [
    {
     "name": "stdout",
     "output_type": "stream",
     "text": [
      "SVM with linear kernel on 60% training data\n",
      "0.9027149321266968\n",
      "SVM with linear kernel on 65% training data\n",
      "0.9069767441860465\n",
      "SVM with linear kernel on 70% training data\n",
      "0.9096385542168675\n",
      "SVM with linear kernel on 75% training data\n",
      "0.9057971014492754\n",
      "SVM (linear) accuracies:  [0.9027149321266968, 0.9069767441860465, 0.9096385542168675, 0.9057971014492754]\n"
     ]
    }
   ],
   "source": [
    "accuracy_model_two = []\n",
    "print(\"SVM with linear kernel on 60% training data\")\n",
    "model_two.fit(X_train_60, y_train_60)\n",
    "print(model_two.score(X_test_60, y_test_60))\n",
    "accuracy_model_two.append(model_two.score(X_test_60, y_test_60))\n",
    "\n",
    "print(\"SVM with linear kernel on 65% training data\")\n",
    "model_two.fit(X_train_65, y_train_65)\n",
    "print(model_two.score(X_test_65, y_test_65))\n",
    "accuracy_model_two.append(model_two.score(X_test_65, y_test_65))\n",
    "\n",
    "print(\"SVM with linear kernel on 70% training data\")\n",
    "model_two.fit(X_train_70, y_train_70)\n",
    "print(model_two.score(X_test_70, y_test_70))\n",
    "accuracy_model_two.append(model_two.score(X_test_70, y_test_70))\n",
    "\n",
    "\n",
    "print(\"SVM with linear kernel on 75% training data\")\n",
    "model_two.fit(X_train_75, y_train_75)\n",
    "print(model_two.score(X_test_75, y_test_75))\n",
    "accuracy_model_two.append(model_two.score(X_test_75, y_test_75))\n",
    "\n",
    "print(\"SVM (linear) accuracies: \", accuracy_model_two)"
   ]
  },
  {
   "cell_type": "code",
   "execution_count": 22,
   "metadata": {},
   "outputs": [
    {
     "name": "stdout",
     "output_type": "stream",
     "text": [
      "SVM with polynomial kernel on 60% training data\n",
      "0.5316742081447964\n",
      "SVM with polynomial kernel on 65% training data\n",
      "0.5400516795865633\n",
      "SVM with polynomial kernel on 70% training data\n",
      "0.5391566265060241\n",
      "SVM with polynomial kernel on 75% training data\n",
      "0.532608695652174\n",
      "SVM (poly) accuracies:  [0.5316742081447964, 0.5400516795865633, 0.5391566265060241, 0.532608695652174]\n"
     ]
    }
   ],
   "source": [
    "accuracy_model_three = []\n",
    "print(\"SVM with polynomial kernel on 60% training data\")\n",
    "model_three.fit(X_train_60, y_train_60)\n",
    "print(model_three.score(X_test_60, y_test_60))\n",
    "accuracy_model_three.append(model_three.score(X_test_60, y_test_60))\n",
    "\n",
    "print(\"SVM with polynomial kernel on 65% training data\")\n",
    "model_three.fit(X_train_65, y_train_65)\n",
    "print(model_three.score(X_test_65, y_test_65))\n",
    "accuracy_model_three.append(model_three.score(X_test_65, y_test_65))\n",
    "\n",
    "print(\"SVM with polynomial kernel on 70% training data\")\n",
    "model_three.fit(X_train_70, y_train_70)\n",
    "print(model_three.score(X_test_70, y_test_70))\n",
    "accuracy_model_three.append(model_three.score(X_test_70, y_test_70))\n",
    "\n",
    "print(\"SVM with polynomial kernel on 75% training data\")\n",
    "model_three.fit(X_train_75, y_train_75)\n",
    "print(model_three.score(X_test_75, y_test_75))\n",
    "accuracy_model_three.append(model_three.score(X_test_75, y_test_75))\n",
    "\n",
    "print(\"SVM (poly) accuracies: \", accuracy_model_three)"
   ]
  },
  {
   "cell_type": "code",
   "execution_count": 23,
   "metadata": {},
   "outputs": [
    {
     "name": "stdout",
     "output_type": "stream",
     "text": [
      "SVM with RBF kernel on 60% training data\n",
      "0.5316742081447964\n",
      "SVM with RBF kernel on 65% training data\n",
      "0.6046511627906976\n",
      "SVM with RBF kernel on 70% training data\n",
      "0.6054216867469879\n",
      "SVM with RBF kernel on 75% training data\n",
      "0.605072463768116\n",
      "SVM (rbf) accuracies:  [0.5316742081447964, 0.6046511627906976, 0.6054216867469879, 0.605072463768116]\n"
     ]
    }
   ],
   "source": [
    "accuracy_model_four = []\n",
    "print(\"SVM with RBF kernel on 60% training data\")\n",
    "model_four.fit(X_train_60, y_train_60)\n",
    "print(model_four.score(X_test_60, y_test_60))\n",
    "accuracy_model_four.append(model_four.score(X_test_60, y_test_60))\n",
    "\n",
    "print(\"SVM with RBF kernel on 65% training data\")\n",
    "model_four.fit(X_train_65, y_train_65)\n",
    "print(model_four.score(X_test_65, y_test_65))\n",
    "accuracy_model_four.append(model_four.score(X_test_65, y_test_65))\n",
    "\n",
    "print(\"SVM with RBF kernel on 70% training data\")\n",
    "model_four.fit(X_train_70, y_train_70)\n",
    "print(model_four.score(X_test_70, y_test_70))\n",
    "accuracy_model_four.append(model_four.score(X_test_70, y_test_70))\n",
    "\n",
    "print(\"SVM with RBF kernel on 75% training data\")\n",
    "model_four.fit(X_train_75, y_train_75)\n",
    "print(model_four.score(X_test_75, y_test_75))\n",
    "accuracy_model_four.append(model_four.score(X_test_75, y_test_75))\n",
    "\n",
    "print(\"SVM (rbf) accuracies: \", accuracy_model_four)"
   ]
  },
  {
   "cell_type": "markdown",
   "metadata": {},
   "source": [
    "# Plot training data size vs prediction accuracy"
   ]
  },
  {
   "cell_type": "code",
   "execution_count": 24,
   "metadata": {},
   "outputs": [
    {
     "data": {
      "text/plain": [
       "<matplotlib.legend.Legend at 0x7faf3fcec240>"
      ]
     },
     "execution_count": 24,
     "metadata": {},
     "output_type": "execute_result"
    },
    {
     "data": {
      "image/png": "[encoded data removed]",
      "text/plain": [
       "<Figure size 720x576 with 1 Axes>"
      ]
     },
     "metadata": {
      "needs_background": "light"
     },
     "output_type": "display_data"
    }
   ],
   "source": [
    "plt.figure(figsize=(10,8))\n",
    "training_data_size = [60, 65, 70, 75]\n",
    "plt.plot(training_data_size, accuracy_model_one, marker='x', color='r', label='Multinomial NB')\n",
    "plt.plot(training_data_size, accuracy_model_two, marker='*', color='g', label='SVM Linear')\n",
    "plt.plot(training_data_size, accuracy_model_three, marker='o', color='b', label='SVM Poly')\n",
    "plt.plot(training_data_size, accuracy_model_four, marker='s', color='k', label='SVM RBF')\n",
    "plt.xlabel('training data size (%)')\n",
    "plt.ylabel('prediction accuracy')\n",
    "plt.title('Training data size vs prediction accuracy')\n",
    "plt.legend()"
   ]
  },
  {
   "cell_type": "code",
   "execution_count": null,
   "metadata": {},
   "outputs": [],
   "source": []
  }
 ],
 "metadata": {
  "kernelspec": {
   "display_name": "Python 3",
   "language": "python",
   "name": "python3"
  },
  "language_info": {
   "codemirror_mode": {
    "name": "ipython",
    "version": 3
   },
   "file_extension": ".py",
   "mimetype": "text/x-python",
   "name": "python",
   "nbconvert_exporter": "python",
   "pygments_lexer": "ipython3",
   "version": "3.7.1"
  }
 },
 "nbformat": 4,
 "nbformat_minor": 2
}
